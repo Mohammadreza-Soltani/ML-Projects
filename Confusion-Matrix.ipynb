{
 "cells": [
  {
   "cell_type": "code",
   "execution_count": 1,
   "id": "a3d39774",
   "metadata": {},
   "outputs": [],
   "source": [
    "import numpy as np\n",
    "import pandas as pd\n",
    "from sklearn.metrics import confusion_matrix\n",
    "from sklearn.metrics import accuracy_score\n",
    "from sklearn.metrics import classification_report\n"
   ]
  },
  {
   "cell_type": "code",
   "execution_count": 5,
   "id": "47a09e44",
   "metadata": {},
   "outputs": [],
   "source": [
    "actual=[\"benign\",\"malignant\",\"benign\",\"malignant\",\"benign\",\"malignant\",\"benign\",\"malignant\",\"benign\",\"benign\"]\n",
    "predict=[\"benign\",\"malignant\",\"benign\",\"malignant\",\"benign\",\"benign\",\"benign\",\"benign\",\"benign\",\"benign\"]"
   ]
  },
  {
   "cell_type": "code",
   "execution_count": 6,
   "id": "1428a89b",
   "metadata": {},
   "outputs": [
    {
     "data": {
      "text/plain": [
       "array([[6, 0],\n",
       "       [2, 2]], dtype=int64)"
      ]
     },
     "execution_count": 6,
     "metadata": {},
     "output_type": "execute_result"
    }
   ],
   "source": [
    "confusion_matrix(actual,predict,labels=[\"benign\",\"malignant\"])"
   ]
  },
  {
   "cell_type": "code",
   "execution_count": 7,
   "id": "26ea0a5a",
   "metadata": {},
   "outputs": [],
   "source": [
    "acu=accuracy_score(actual,predict)"
   ]
  },
  {
   "cell_type": "code",
   "execution_count": 8,
   "id": "a9a60f79",
   "metadata": {},
   "outputs": [
    {
     "data": {
      "text/plain": [
       "0.8"
      ]
     },
     "execution_count": 8,
     "metadata": {},
     "output_type": "execute_result"
    }
   ],
   "source": [
    "acu"
   ]
  },
  {
   "cell_type": "code",
   "execution_count": 9,
   "id": "ffa6a661",
   "metadata": {},
   "outputs": [],
   "source": [
    "cr=classification_report(actual,predict)"
   ]
  },
  {
   "cell_type": "code",
   "execution_count": 10,
   "id": "32aecf12",
   "metadata": {},
   "outputs": [
    {
     "name": "stdout",
     "output_type": "stream",
     "text": [
      "              precision    recall  f1-score   support\n",
      "\n",
      "      benign       0.75      1.00      0.86         6\n",
      "   malignant       1.00      0.50      0.67         4\n",
      "\n",
      "    accuracy                           0.80        10\n",
      "   macro avg       0.88      0.75      0.76        10\n",
      "weighted avg       0.85      0.80      0.78        10\n",
      "\n"
     ]
    }
   ],
   "source": [
    "print(cr)"
   ]
  },
  {
   "cell_type": "code",
   "execution_count": null,
   "id": "51e6de40",
   "metadata": {},
   "outputs": [],
   "source": []
  }
 ],
 "metadata": {
  "kernelspec": {
   "display_name": "Python 3",
   "language": "python",
   "name": "python3"
  },
  "language_info": {
   "codemirror_mode": {
    "name": "ipython",
    "version": 3
   },
   "file_extension": ".py",
   "mimetype": "text/x-python",
   "name": "python",
   "nbconvert_exporter": "python",
   "pygments_lexer": "ipython3",
   "version": "3.8.8"
  }
 },
 "nbformat": 4,
 "nbformat_minor": 5
}
