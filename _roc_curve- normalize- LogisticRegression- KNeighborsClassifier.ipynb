{
 "cells": [
  {
   "cell_type": "code",
   "execution_count": 1,
   "id": "b3f5f339",
   "metadata": {},
   "outputs": [],
   "source": [
    "import numpy as np\n",
    "import pandas as pd\n",
    "import matplotlib.pyplot as plt\n",
    "import seaborn as sns\n",
    "from sklearn import datasets"
   ]
  },
  {
   "cell_type": "code",
   "execution_count": 2,
   "id": "e705ecef",
   "metadata": {},
   "outputs": [],
   "source": [
    "bcd=datasets.load_breast_cancer()"
   ]
  },
  {
   "cell_type": "code",
   "execution_count": 3,
   "id": "a8ba7eae",
   "metadata": {},
   "outputs": [],
   "source": [
    "x=bcd.data\n",
    "y=bcd.target\n",
    "bcd_df=pd.DataFrame(bcd,columns=bcd.feature_names)"
   ]
  },
  {
   "cell_type": "code",
   "execution_count": 4,
   "id": "180875ca",
   "metadata": {},
   "outputs": [],
   "source": [
    "from sklearn.model_selection import train_test_split\n",
    "x_train,x_test,y_train,y_test=train_test_split(x,y,test_size=0.3,random_state=42)"
   ]
  },
  {
   "cell_type": "code",
   "execution_count": 5,
   "id": "13bf40b7",
   "metadata": {},
   "outputs": [
    {
     "name": "stdout",
     "output_type": "stream",
     "text": [
      "[1 0 0 1 1 0 0 0 1 1 1 0 1 0 1 0 1 1 1 0 0 1 0 1 1 1 1 1 1 0 1 1 1 0 1 1 0\n",
      " 1 0 1 1 0 1 1 1 1 1 1 1 1 0 0 1 1 1 1 1 0 1 1 1 0 0 1 1 1 0 0 1 1 0 0 1 1\n",
      " 1 1 1 0 1 1 0 1 1 0 0 0 0 0 1 1 1 1 1 1 1 1 0 0 1 0 0 1 0 0 1 1 1 0 1 1 0\n",
      " 1 1 0 1 0 1 1 1 0 1 1 1 0 1 0 0 1 1 0 0 0 0 1 0 0 1 1 0 0 1 0 1 1 0 1 0 0\n",
      " 0 1 0 1 1 1 1 0 0 1 1 1 1 1 1 1 0 1 1 1 1 0 1]\n"
     ]
    }
   ],
   "source": [
    "from sklearn.neighbors import KNeighborsClassifier\n",
    "knn=KNeighborsClassifier(n_neighbors=6)\n",
    "knn.fit(x_train,y_train)\n",
    "y_pred=knn.predict(x_test)\n",
    "print(y_pred)"
   ]
  },
  {
   "cell_type": "code",
   "execution_count": 6,
   "id": "f4612e7c",
   "metadata": {},
   "outputs": [
    {
     "data": {
      "text/plain": [
       "0.9590643274853801"
      ]
     },
     "execution_count": 6,
     "metadata": {},
     "output_type": "execute_result"
    }
   ],
   "source": [
    "knn.score(x_test,y_test)"
   ]
  },
  {
   "cell_type": "code",
   "execution_count": 7,
   "id": "d0e5c3f2",
   "metadata": {},
   "outputs": [
    {
     "name": "stdout",
     "output_type": "stream",
     "text": [
      "[[ 60   3]\n",
      " [  4 104]]\n",
      "              precision    recall  f1-score   support\n",
      "\n",
      "           0       0.94      0.95      0.94        63\n",
      "           1       0.97      0.96      0.97       108\n",
      "\n",
      "    accuracy                           0.96       171\n",
      "   macro avg       0.95      0.96      0.96       171\n",
      "weighted avg       0.96      0.96      0.96       171\n",
      "\n"
     ]
    }
   ],
   "source": [
    "from sklearn.metrics import confusion_matrix,classification_report\n",
    "print(confusion_matrix(y_test,y_pred))\n",
    "print(classification_report(y_test,y_pred))"
   ]
  },
  {
   "cell_type": "code",
   "execution_count": 14,
   "id": "ebd5999e",
   "metadata": {},
   "outputs": [],
   "source": [
    "%%capture\n",
    "from sklearn.linear_model import LogisticRegression\n",
    "log=LogisticRegression()\n",
    "log.fit(x_train,y_train)\n",
    "y_pred=log.predict(x_test)\n",
    "print(y_pred)"
   ]
  },
  {
   "cell_type": "code",
   "execution_count": 15,
   "id": "7c4929fc",
   "metadata": {},
   "outputs": [],
   "source": [
    "%%capture\n",
    "from sklearn.preprocessing import normalize\n",
    "from sklearn.metrics import confusion_matrix,classification_report\n",
    "cm=confusion_matrix(y_test,y_pred,[0,1])\n",
    "cm=normalize(cm,norm=\"l1\",axis=1)\n",
    "df_cm=pd.DataFrame(cm,index=bcd.target_names,columns=bcd.target_names)\n",
    "df_cm"
   ]
  },
  {
   "cell_type": "code",
   "execution_count": 10,
   "id": "28221a64",
   "metadata": {},
   "outputs": [
    {
     "data": {
      "text/plain": [
       "array([8.74030046e-01, 4.70890642e-09, 6.70597304e-03, 9.96674483e-01,\n",
       "       9.98714014e-01, 4.98264222e-10, 8.57997216e-13, 4.40591464e-03,\n",
       "       9.96150594e-01, 9.80974456e-01, 9.55309269e-01, 3.24364830e-04,\n",
       "       9.86211559e-01, 4.79646242e-01, 9.95312571e-01, 9.64140304e-04,\n",
       "       9.95837553e-01, 9.99713225e-01, 9.94580979e-01, 4.00897000e-07,\n",
       "       8.41976771e-01, 9.65458432e-01, 9.16028055e-09, 9.94063081e-01,\n",
       "       9.89488938e-01, 9.99228877e-01, 9.95961919e-01, 9.95835137e-01,\n",
       "       9.92925129e-01, 1.18980682e-07, 9.96259802e-01, 9.97615738e-01,\n",
       "       9.69218259e-01, 9.85591976e-01, 9.98045755e-01, 9.96485833e-01,\n",
       "       2.41088337e-03, 9.81568284e-01, 4.55181175e-06, 9.15013018e-01,\n",
       "       9.97881824e-01, 1.48025643e-03, 9.99152938e-01, 9.90090893e-01,\n",
       "       9.97457725e-01, 9.55876994e-01, 9.98248259e-01, 9.85270806e-01,\n",
       "       9.31069144e-01, 9.95546191e-01, 1.53846508e-04, 2.09787016e-09,\n",
       "       9.60473580e-01, 9.97001428e-01, 9.99020464e-01, 9.82357327e-01,\n",
       "       9.97943133e-01, 6.82211054e-15, 8.37051923e-01, 9.99592062e-01,\n",
       "       9.82635247e-01, 7.25737650e-07, 9.25064874e-12, 9.75902427e-01,\n",
       "       9.85717882e-01, 9.54050033e-01, 2.99305291e-04, 8.68699264e-09,\n",
       "       9.93086558e-01, 9.88717634e-01, 7.44756303e-03, 3.97078379e-05,\n",
       "       9.88599297e-01, 1.06599067e-01, 9.81851590e-01, 9.98517543e-01,\n",
       "       9.16887334e-01, 6.54801644e-01, 9.94398763e-01, 9.84694511e-01,\n",
       "       1.14720810e-03, 9.88854821e-01, 4.08412828e-01, 2.00262249e-10,\n",
       "       4.33554593e-04, 8.29181904e-02, 1.35376146e-02, 1.38237366e-06,\n",
       "       9.95429299e-01, 9.80792025e-01, 9.53300263e-01, 9.43414278e-01,\n",
       "       9.34582657e-01, 9.89068374e-01, 9.97755956e-01, 9.95427355e-01,\n",
       "       1.33205143e-08, 7.35869008e-07, 9.99539989e-01, 1.22489445e-04,\n",
       "       1.17226943e-04, 9.99790751e-01, 2.48184526e-08, 4.08004810e-03,\n",
       "       8.38939766e-01, 7.04129299e-01, 9.90846715e-01, 1.33904459e-18,\n",
       "       9.50074076e-01, 7.91844735e-01, 2.52490064e-04, 9.94843781e-01,\n",
       "       2.14569197e-01, 4.93251901e-26, 9.88145404e-01, 4.87145578e-09,\n",
       "       9.95756702e-01, 9.24463211e-01, 9.98231229e-01, 3.59932114e-03,\n",
       "       5.95497708e-01, 9.96667694e-01, 9.87324569e-01, 1.03511803e-05,\n",
       "       9.19644273e-01, 5.66234535e-10, 9.52072744e-04, 9.72016817e-01,\n",
       "       9.96600734e-01, 3.04044270e-07, 5.25355625e-14, 2.62593822e-03,\n",
       "       7.91745455e-01, 9.96058073e-01, 9.43592612e-01, 9.46199167e-02,\n",
       "       9.44347390e-01, 9.67868657e-01, 8.78106817e-01, 4.32754607e-02,\n",
       "       9.74499249e-01, 2.32110467e-14, 9.99360572e-01, 9.99601820e-01,\n",
       "       2.74297775e-02, 9.64441829e-01, 1.59048629e-05, 5.07136051e-08,\n",
       "       7.66908253e-01, 9.95616126e-01, 2.49451060e-02, 9.98778585e-01,\n",
       "       9.98233382e-01, 9.22222509e-01, 9.93100323e-01, 1.00970319e-16,\n",
       "       3.23287828e-04, 9.70821888e-01, 9.94498146e-01, 9.99726609e-01,\n",
       "       9.99931125e-01, 9.90880548e-01, 9.73837372e-01, 9.96667395e-01,\n",
       "       1.21703078e-01, 9.66940261e-01, 9.99309224e-01, 7.74265312e-01,\n",
       "       9.81950314e-01, 2.61256801e-01, 9.41901655e-01])"
      ]
     },
     "execution_count": 10,
     "metadata": {},
     "output_type": "execute_result"
    }
   ],
   "source": [
    "from sklearn.metrics import roc_curve\n",
    "y_pred_proba=log.predict_proba(x_test)[:,1]\n",
    "y_pred_proba"
   ]
  },
  {
   "cell_type": "code",
   "execution_count": 11,
   "id": "dc950ef8",
   "metadata": {},
   "outputs": [
    {
     "data": {
      "image/png": "[encoded data removed]",
      "text/plain": [
       "<Figure size 432x288 with 1 Axes>"
      ]
     },
     "metadata": {
      "needs_background": "light"
     },
     "output_type": "display_data"
    }
   ],
   "source": [
    "fpr,tpr,thresholds=roc_curve(y_test,y_pred_proba)\n",
    "\n",
    "plt.plot([0,1],[0,1],\"r--\")\n",
    "plt.plot(fpr,tpr)\n",
    "plt.xlabel(\"FPR\")\n",
    "plt.ylabel(\"Tpr\")\n",
    "plt.show()"
   ]
  },
  {
   "cell_type": "code",
   "execution_count": 12,
   "id": "f4046ef5",
   "metadata": {},
   "outputs": [
    {
     "data": {
      "text/plain": [
       "0.9969135802469136"
      ]
     },
     "execution_count": 12,
     "metadata": {},
     "output_type": "execute_result"
    }
   ],
   "source": [
    "from sklearn.metrics import roc_auc_score\n",
    "\n",
    "roc_auc_score(y_test,y_pred_proba)"
   ]
  },
  {
   "cell_type": "code",
   "execution_count": null,
   "id": "46b6851f",
   "metadata": {},
   "outputs": [],
   "source": []
  }
 ],
 "metadata": {
  "kernelspec": {
   "display_name": "Python 3",
   "language": "python",
   "name": "python3"
  },
  "language_info": {
   "codemirror_mode": {
    "name": "ipython",
    "version": 3
   },
   "file_extension": ".py",
   "mimetype": "text/x-python",
   "name": "python",
   "nbconvert_exporter": "python",
   "pygments_lexer": "ipython3",
   "version": "3.8.8"
  }
 },
 "nbformat": 4,
 "nbformat_minor": 5
}
